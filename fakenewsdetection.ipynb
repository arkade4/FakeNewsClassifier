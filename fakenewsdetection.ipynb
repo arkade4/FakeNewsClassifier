{
 "cells": [
  {
   "cell_type": "code",
   "execution_count": 1,
   "id": "fbd7ed42-7c0f-407b-9316-5947ab27e756",
   "metadata": {},
   "outputs": [],
   "source": [
    "import pandas as pd\n",
    "import numpy as np\n",
    "import matplotlib.pyplot as plt\n",
    "import seaborn as sns\n",
    "\n",
    "%matplotlib inline"
   ]
  },
  {
   "cell_type": "code",
   "execution_count": 2,
   "id": "0377f59b-cc7a-4cfe-8a84-69140e01becc",
   "metadata": {},
   "outputs": [
    {
     "name": "stdout",
     "output_type": "stream",
     "text": [
      "Rows:  6335\n",
      "Columns:  4\n",
      "Column names:  ['Unnamed: 0' 'title' 'text' 'label']\n"
     ]
    }
   ],
   "source": [
    "news = pd.read_csv(\"C://Users//arkad//Desktop//Projs//FakeNewsDetection//news.csv\")\n",
    "#data.head()\n",
    "print('Rows: ', news.shape[0])\n",
    "print('Columns: ', news.shape[1])\n",
    "print('Column names: ', news.columns.values)"
   ]
  },
  {
   "cell_type": "code",
   "execution_count": 3,
   "id": "4c07f807-862c-410c-8279-8f2aff384770",
   "metadata": {},
   "outputs": [
    {
     "name": "stdout",
     "output_type": "stream",
     "text": [
      "<class 'pandas.core.frame.DataFrame'>\n",
      "RangeIndex: 6335 entries, 0 to 6334\n",
      "Data columns (total 4 columns):\n",
      " #   Column      Non-Null Count  Dtype \n",
      "---  ------      --------------  ----- \n",
      " 0   Unnamed: 0  6335 non-null   int64 \n",
      " 1   title       6335 non-null   object\n",
      " 2   text        6335 non-null   object\n",
      " 3   label       6335 non-null   object\n",
      "dtypes: int64(1), object(3)\n",
      "memory usage: 198.1+ KB\n"
     ]
    }
   ],
   "source": [
    "news.info()"
   ]
  },
  {
   "cell_type": "code",
   "execution_count": 4,
   "id": "398bb4e2-0bbd-4ca3-b8a6-82a122194dc2",
   "metadata": {},
   "outputs": [],
   "source": [
    "news.drop(columns=['Unnamed: 0'], axis=1, inplace=True)"
   ]
  },
  {
   "cell_type": "code",
   "execution_count": 5,
   "id": "a6a8873f-bfcc-49b2-b333-a2b2e6f366f1",
   "metadata": {},
   "outputs": [
    {
     "data": {
      "text/html": [
       "<div>\n",
       "<style scoped>\n",
       "    .dataframe tbody tr th:only-of-type {\n",
       "        vertical-align: middle;\n",
       "    }\n",
       "\n",
       "    .dataframe tbody tr th {\n",
       "        vertical-align: top;\n",
       "    }\n",
       "\n",
       "    .dataframe thead th {\n",
       "        text-align: right;\n",
       "    }\n",
       "</style>\n",
       "<table border=\"1\" class=\"dataframe\">\n",
       "  <thead>\n",
       "    <tr style=\"text-align: right;\">\n",
       "      <th></th>\n",
       "      <th>title</th>\n",
       "      <th>text</th>\n",
       "      <th>label</th>\n",
       "    </tr>\n",
       "  </thead>\n",
       "  <tbody>\n",
       "    <tr>\n",
       "      <th>0</th>\n",
       "      <td>You Can Smell Hillary’s Fear</td>\n",
       "      <td>Daniel Greenfield, a Shillman Journalism Fello...</td>\n",
       "      <td>FAKE</td>\n",
       "    </tr>\n",
       "    <tr>\n",
       "      <th>1</th>\n",
       "      <td>Watch The Exact Moment Paul Ryan Committed Pol...</td>\n",
       "      <td>Google Pinterest Digg Linkedin Reddit Stumbleu...</td>\n",
       "      <td>FAKE</td>\n",
       "    </tr>\n",
       "    <tr>\n",
       "      <th>2</th>\n",
       "      <td>Kerry to go to Paris in gesture of sympathy</td>\n",
       "      <td>U.S. Secretary of State John F. Kerry said Mon...</td>\n",
       "      <td>REAL</td>\n",
       "    </tr>\n",
       "    <tr>\n",
       "      <th>3</th>\n",
       "      <td>Bernie supporters on Twitter erupt in anger ag...</td>\n",
       "      <td>— Kaydee King (@KaydeeKing) November 9, 2016 T...</td>\n",
       "      <td>FAKE</td>\n",
       "    </tr>\n",
       "    <tr>\n",
       "      <th>4</th>\n",
       "      <td>The Battle of New York: Why This Primary Matters</td>\n",
       "      <td>It's primary day in New York and front-runners...</td>\n",
       "      <td>REAL</td>\n",
       "    </tr>\n",
       "  </tbody>\n",
       "</table>\n",
       "</div>"
      ],
      "text/plain": [
       "                                               title  \\\n",
       "0                       You Can Smell Hillary’s Fear   \n",
       "1  Watch The Exact Moment Paul Ryan Committed Pol...   \n",
       "2        Kerry to go to Paris in gesture of sympathy   \n",
       "3  Bernie supporters on Twitter erupt in anger ag...   \n",
       "4   The Battle of New York: Why This Primary Matters   \n",
       "\n",
       "                                                text label  \n",
       "0  Daniel Greenfield, a Shillman Journalism Fello...  FAKE  \n",
       "1  Google Pinterest Digg Linkedin Reddit Stumbleu...  FAKE  \n",
       "2  U.S. Secretary of State John F. Kerry said Mon...  REAL  \n",
       "3  — Kaydee King (@KaydeeKing) November 9, 2016 T...  FAKE  \n",
       "4  It's primary day in New York and front-runners...  REAL  "
      ]
     },
     "execution_count": 5,
     "metadata": {},
     "output_type": "execute_result"
    }
   ],
   "source": [
    "news.head()"
   ]
  },
  {
   "cell_type": "code",
   "execution_count": 6,
   "id": "aaff3b73-1213-4883-96ef-6275875047e2",
   "metadata": {},
   "outputs": [],
   "source": [
    "labels = news['label'].value_counts()\n",
    "#print('labels:', labels)"
   ]
  },
  {
   "cell_type": "code",
   "execution_count": 7,
   "id": "b240a651-9421-4210-9e66-3af73341f83a",
   "metadata": {},
   "outputs": [
    {
     "data": {
      "image/png": "[encoded data removed]",
      "text/plain": [
       "<Figure size 1000x800 with 1 Axes>"
      ]
     },
     "metadata": {},
     "output_type": "display_data"
    }
   ],
   "source": [
    "plt.figure(figsize=(10, 8))\n",
    "plt.pie(labels.values, labels=labels.index, autopct='%.2f%%', explode=([0.05]*len(labels.index)), colors=['lightcoral','lightgreen'])\n",
    "plt.title('Fake vs Real News', fontsize=15)\n",
    "plt.show()"
   ]
  },
  {
   "cell_type": "code",
   "execution_count": 8,
   "id": "bcf1a8f9-92d6-4c82-9d08-5e0a3ba1b028",
   "metadata": {},
   "outputs": [],
   "source": [
    "import spacy\n",
    "kevin = spacy.load('en_core_web_lg')"
   ]
  },
  {
   "cell_type": "code",
   "execution_count": 9,
   "id": "a3077c9b-78db-48f3-b359-0bb99597a7fa",
   "metadata": {},
   "outputs": [],
   "source": [
    "news['TextVector'] = news['text'].apply(lambda x: kevin(x).vector)"
   ]
  },
  {
   "cell_type": "code",
   "execution_count": 10,
   "id": "c2774071-4108-428e-9454-9822eb0c4ee3",
   "metadata": {},
   "outputs": [],
   "source": [
    "news_copy = news.copy()\n",
    "news_copy.drop(columns=['title', 'text'], axis =1, inplace=True)"
   ]
  },
  {
   "cell_type": "code",
   "execution_count": 11,
   "id": "bef7dbf0-b522-4fc3-a970-72f4a1e447e0",
   "metadata": {},
   "outputs": [
    {
     "name": "stdout",
     "output_type": "stream",
     "text": [
      "Train Shape:  (5068, 2)\n",
      "Test Shape:  (1267, 2)\n"
     ]
    }
   ],
   "source": [
    "from sklearn.model_selection import train_test_split\n",
    "train, test = train_test_split(news_copy, test_size=0.2, random_state=420)\n",
    "print('Train Shape: ', train.shape)\n",
    "print('Test Shape: ', test.shape)"
   ]
  },
  {
   "cell_type": "code",
   "execution_count": 12,
   "id": "aa881ea1-b7e8-409a-9ea3-fdac3646621e",
   "metadata": {},
   "outputs": [],
   "source": [
    "xtrain = train['TextVector']\n",
    "ytrain = train['label']\n",
    "\n",
    "xtest = test['TextVector']\n",
    "ytest = test['label']\n",
    "\n",
    "from sklearn.preprocessing import LabelEncoder\n",
    "encoder = LabelEncoder()"
   ]
  },
  {
   "cell_type": "code",
   "execution_count": 13,
   "id": "6a5734cc-4db3-4ad7-85cf-629657a53e8a",
   "metadata": {},
   "outputs": [],
   "source": [
    "ytrain_encoded = encoder.fit_transform(ytrain)\n",
    "ytest_encoded = encoder.transform(ytest)"
   ]
  },
  {
   "cell_type": "code",
   "execution_count": 14,
   "id": "13fbfec6-2dfa-4598-88e6-a05b05ba07c6",
   "metadata": {},
   "outputs": [],
   "source": [
    "xtrain = np.array(xtrain)\n",
    "xtest = np.array(xtest)\n",
    "\n",
    "xtrain_2d = np.stack(xtrain)\n",
    "xtest_2d = np.stack(xtest)"
   ]
  },
  {
   "cell_type": "code",
   "execution_count": 15,
   "id": "05b24898-ac3a-48db-bcdc-5dcc553f980b",
   "metadata": {},
   "outputs": [],
   "source": [
    "from sklearn.preprocessing import MinMaxScaler\n",
    "\n",
    "scaler = MinMaxScaler()\n",
    "xtrain_scaled = scaler.fit_transform(xtrain_2d)\n",
    "xtest_scaled = scaler.transform(xtest_2d)"
   ]
  },
  {
   "cell_type": "code",
   "execution_count": 18,
   "id": "b4eb9425-0b5c-401e-8565-692f57dcfce0",
   "metadata": {},
   "outputs": [],
   "source": [
    "from sklearn.naive_bayes import MultinomialNB\n",
    "\n",
    "clf = MultinomialNB()\n",
    "mnb = clf.fit(xtrain_scaled, ytrain_encoded)"
   ]
  },
  {
   "cell_type": "code",
   "execution_count": 19,
   "id": "9f41ca19-6886-4631-ae3e-e9e218df0ff5",
   "metadata": {},
   "outputs": [
    {
     "name": "stdout",
     "output_type": "stream",
     "text": [
      "              precision    recall  f1-score   support\n",
      "\n",
      "           0       0.84      0.71      0.77       634\n",
      "           1       0.75      0.87      0.80       633\n",
      "\n",
      "    accuracy                           0.79      1267\n",
      "   macro avg       0.80      0.79      0.79      1267\n",
      "weighted avg       0.80      0.79      0.79      1267\n",
      "\n"
     ]
    }
   ],
   "source": [
    "from sklearn.metrics import confusion_matrix, classification_report\n",
    "\n",
    "ypred = mnb.predict(xtest_scaled)\n",
    "\n",
    "report = classification_report(ytest_encoded, ypred)\n",
    "print(report)"
   ]
  },
  {
   "cell_type": "code",
   "execution_count": 21,
   "id": "ea02d989-b4b3-4201-bff5-e2887598c9bc",
   "metadata": {},
   "outputs": [
    {
     "data": {
      "text/plain": [
       "<Axes: >"
      ]
     },
     "execution_count": 21,
     "metadata": {},
     "output_type": "execute_result"
    },
    {
     "data": {
      "image/png": "[encoded data removed]",
      "text/plain": [
       "<Figure size 640x480 with 2 Axes>"
      ]
     },
     "metadata": {},
     "output_type": "display_data"
    }
   ],
   "source": [
    "cnfsnmx =  confusion_matrix(ytest_encoded, ypred, normalize = 'true')\n",
    "\n",
    "plt.figure()\n",
    "sns.heatmap(cnfsnmx, annot=True, cmap = 'BuPu', fmt = '.4g')"
   ]
  },
  {
   "cell_type": "code",
   "execution_count": null,
   "id": "ec31a3b1-c414-4817-b9b2-1405c055bb5c",
   "metadata": {},
   "outputs": [],
   "source": []
  }
 ],
 "metadata": {
  "kernelspec": {
   "display_name": "Python 3 (ipykernel)",
   "language": "python",
   "name": "python3"
  },
  "language_info": {
   "codemirror_mode": {
    "name": "ipython",
    "version": 3
   },
   "file_extension": ".py",
   "mimetype": "text/x-python",
   "name": "python",
   "nbconvert_exporter": "python",
   "pygments_lexer": "ipython3",
   "version": "3.11.2"
  }
 },
 "nbformat": 4,
 "nbformat_minor": 5
}
